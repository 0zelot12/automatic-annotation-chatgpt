{
 "cells": [
  {
   "cell_type": "code",
   "execution_count": 5,
   "metadata": {},
   "outputs": [],
   "source": [
    "import os\n",
    "import json\n",
    "\n",
    "import numpy as np"
   ]
  },
  {
   "cell_type": "code",
   "execution_count": 6,
   "metadata": {},
   "outputs": [],
   "source": [
    "data_path = \"../../data/results/two-shot/5x5-relation/\"\n",
    "\n",
    "data = []\n",
    "for parent_folder in os.listdir(f\"./{data_path}\"):\n",
    "    for child_folder in os.listdir(f\"./{data_path}/{parent_folder}\"):\n",
    "        for file_name in os.listdir(f\"./{data_path}/{parent_folder}/{child_folder}\"):\n",
    "            filepath = os.path.join(f\"./{data_path}/{parent_folder}/{child_folder}\", file_name)\n",
    "            with open(filepath, \"r\") as file:\n",
    "                json_data = json.load(file)\n",
    "                data.append(json_data)\n",
    "\n",
    "f1_scores_1 = [d[\"metrics\"][\"overall_metrics\"][\"f1_score\"] for d in data]\n",
    "f1_scores_1 = [d[\"metrics\"][\"entity_metrics\"][\"overall\"][\"f1_score\"] for d in data]\n",
    "f1_scores_relation_1 = [d[\"metrics\"][\"relation_metrics\"][\"overall\"][\"f1_score\"] for d in data]"
   ]
  },
  {
   "cell_type": "code",
   "execution_count": 7,
   "metadata": {},
   "outputs": [],
   "source": [
    "data_path = \"../../data/results/two-shot/5x5-relation-with-errors/\"\n",
    "\n",
    "data = []\n",
    "for parent_folder in os.listdir(f\"./{data_path}\"):\n",
    "    for child_folder in os.listdir(f\"./{data_path}/{parent_folder}\"):\n",
    "        for file_name in os.listdir(f\"./{data_path}/{parent_folder}/{child_folder}\"):\n",
    "            filepath = os.path.join(f\"./{data_path}/{parent_folder}/{child_folder}\", file_name)\n",
    "            with open(filepath, \"r\") as file:\n",
    "                json_data = json.load(file)\n",
    "                data.append(json_data)\n",
    "\n",
    "f1_scores_2 = [d[\"metrics\"][\"overall_metrics\"][\"f1_score\"] for d in data]\n",
    "f1_scores_2 = [d[\"metrics\"][\"entity_metrics\"][\"overall\"][\"f1_score\"] for d in data]\n",
    "f1_scores_relation_2 = [d[\"metrics\"][\"relation_metrics\"][\"overall\"][\"f1_score\"] for d in data]"
   ]
  },
  {
   "cell_type": "code",
   "execution_count": 8,
   "metadata": {},
   "outputs": [
    {
     "name": "stdout",
     "output_type": "stream",
     "text": [
      "0.2189777777777778 0.18515555555555555\n"
     ]
    }
   ],
   "source": [
    "print(np.mean(f1_scores_1), np.mean(f1_scores_2))"
   ]
  },
  {
   "cell_type": "code",
   "execution_count": 17,
   "metadata": {},
   "outputs": [
    {
     "data": {
      "text/plain": [
       "TtestResult(statistic=3.2347821690518592, pvalue=0.0014013225407084702, df=224)"
      ]
     },
     "execution_count": 17,
     "metadata": {},
     "output_type": "execute_result"
    }
   ],
   "source": [
    "from scipy import stats\n",
    "\n",
    "stats.ttest_rel(f1_scores_1, f1_scores_2)"
   ]
  }
 ],
 "metadata": {
  "kernelspec": {
   "display_name": "nlp",
   "language": "python",
   "name": "python3"
  },
  "language_info": {
   "codemirror_mode": {
    "name": "ipython",
    "version": 3
   },
   "file_extension": ".py",
   "mimetype": "text/x-python",
   "name": "python",
   "nbconvert_exporter": "python",
   "pygments_lexer": "ipython3",
   "version": "3.10.14"
  }
 },
 "nbformat": 4,
 "nbformat_minor": 2
}
