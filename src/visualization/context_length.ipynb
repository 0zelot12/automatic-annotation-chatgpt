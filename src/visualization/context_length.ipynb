{
 "cells": [
  {
   "cell_type": "code",
   "execution_count": 23,
   "metadata": {},
   "outputs": [],
   "source": [
    "import os\n",
    "import json\n",
    "\n",
    "import numpy as np"
   ]
  },
  {
   "cell_type": "code",
   "execution_count": 24,
   "metadata": {},
   "outputs": [
    {
     "data": {
      "text/plain": [
       "0.08577777777777777"
      ]
     },
     "execution_count": 24,
     "metadata": {},
     "output_type": "execute_result"
    }
   ],
   "source": [
    "data_path = \"../../data/results/short-context\"\n",
    "\n",
    "data = []\n",
    "for file_name in os.listdir(f\"./{data_path}\"):\n",
    "    filepath = os.path.join(f\"./{data_path}\", file_name)\n",
    "    with open(filepath, \"r\") as file:\n",
    "        json_data = json.load(file)\n",
    "        data.append(json_data)\n",
    "\n",
    "f1_scores_short_context = [d[\"metrics\"][\"relation_metrics\"][\"overall\"][\"f1_score\"] for d in data]\n",
    "\n",
    "np.mean(f1_scores_short_context)"
   ]
  },
  {
   "cell_type": "code",
   "execution_count": 25,
   "metadata": {},
   "outputs": [
    {
     "data": {
      "text/plain": [
       "0.05111111111111111"
      ]
     },
     "execution_count": 25,
     "metadata": {},
     "output_type": "execute_result"
    }
   ],
   "source": [
    "data_path = \"../../data/results/medium-context\"\n",
    "\n",
    "data = []\n",
    "for file_name in os.listdir(f\"./{data_path}\"):\n",
    "    filepath = os.path.join(f\"./{data_path}\", file_name)\n",
    "    with open(filepath, \"r\") as file:\n",
    "        json_data = json.load(file)\n",
    "        data.append(json_data)\n",
    "\n",
    "f1_scores_medium_context = [d[\"metrics\"][\"relation_metrics\"][\"overall\"][\"f1_score\"] for d in data]\n",
    "\n",
    "np.mean(f1_scores_medium_context)"
   ]
  },
  {
   "cell_type": "code",
   "execution_count": 26,
   "metadata": {},
   "outputs": [
    {
     "data": {
      "text/plain": [
       "0.015111111111111115"
      ]
     },
     "execution_count": 26,
     "metadata": {},
     "output_type": "execute_result"
    }
   ],
   "source": [
    "data_path = \"../../data/results/large-context\"\n",
    "\n",
    "data = []\n",
    "for file_name in os.listdir(f\"./{data_path}\"):\n",
    "    filepath = os.path.join(f\"./{data_path}\", file_name)\n",
    "    with open(filepath, \"r\") as file:\n",
    "        json_data = json.load(file)\n",
    "        data.append(json_data)\n",
    "\n",
    "f1_scores_large_context = [d[\"metrics\"][\"relation_metrics\"][\"overall\"][\"f1_score\"] for d in data]\n",
    "\n",
    "np.mean(f1_scores_large_context)"
   ]
  },
  {
   "cell_type": "code",
   "execution_count": 27,
   "metadata": {},
   "outputs": [
    {
     "data": {
      "text/plain": [
       "TtestResult(statistic=3.935501234429982, pvalue=0.00029158023185201485, df=44)"
      ]
     },
     "execution_count": 27,
     "metadata": {},
     "output_type": "execute_result"
    }
   ],
   "source": [
    "from scipy import stats\n",
    "\n",
    "stats.ttest_rel(f1_scores_short_context, f1_scores_medium_context)\n",
    "stats.ttest_rel(f1_scores_medium_context, f1_scores_large_context)"
   ]
  },
  {
   "cell_type": "code",
   "execution_count": 28,
   "metadata": {},
   "outputs": [],
   "source": [
    "import latextable\n",
    "\n",
    "from texttable import Texttable"
   ]
  },
  {
   "cell_type": "code",
   "execution_count": 31,
   "metadata": {},
   "outputs": [
    {
     "name": "stdout",
     "output_type": "stream",
     "text": [
      "\\begin{table}\n",
      "\t\\begin{center}\n",
      "\t\t\\begin{tabular}{|l|r|}\n",
      "\t\t\t\\hline\n",
      "\t\t\tKontextlänge (#Tokens) & F1-Score \\\\\n",
      "\t\t\t\\hline\n",
      "\t\t\t735 & 0.020 \\\\\n",
      "\t\t\t\\hline\n",
      "\t\t\t474 & 0.050 \\\\\n",
      "\t\t\t\\hline\n",
      "\t\t\t114 & 0.090 \\\\\n",
      "\t\t\t\\hline\n",
      "\t\t\\end{tabular}\n",
      "\t\\end{center}\n",
      "\t\\caption{F1-Score bei variierender Kontextlänge}\n",
      "\t\\label{table:example_table}\n",
      "\\end{table}\n"
     ]
    }
   ],
   "source": [
    "rows = [\n",
    "    [\"Kontextlänge (#Tokens)\", \"F1-Score\"],\n",
    "    [735, np.round(np.mean(f1_scores_large_context), 2)],\n",
    "    [474, np.round(np.mean(f1_scores_medium_context), 2)],\n",
    "    [114, np.round(np.mean(f1_scores_short_context), 2)],\n",
    "]\n",
    "\n",
    "table = Texttable()\n",
    "\n",
    "table.set_cols_align([\"l\", \"r\"])\n",
    "table.set_cols_valign([\"t\", \"m\"])\n",
    "\n",
    "table.add_rows(rows)\n",
    "\n",
    "print(\n",
    "    latextable.draw_latex(\n",
    "        table,\n",
    "        caption=\"F1-Score bei variierender Kontextlänge\",\n",
    "        label=\"table:example_table\",\n",
    "    )\n",
    ")"
   ]
  }
 ],
 "metadata": {
  "kernelspec": {
   "display_name": "nlp",
   "language": "python",
   "name": "python3"
  },
  "language_info": {
   "codemirror_mode": {
    "name": "ipython",
    "version": 3
   },
   "file_extension": ".py",
   "mimetype": "text/x-python",
   "name": "python",
   "nbconvert_exporter": "python",
   "pygments_lexer": "ipython3",
   "version": "3.10.14"
  }
 },
 "nbformat": 4,
 "nbformat_minor": 2
}
