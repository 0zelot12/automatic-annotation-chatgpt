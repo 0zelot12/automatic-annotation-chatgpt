{
 "cells": [
  {
   "cell_type": "code",
   "execution_count": 127,
   "metadata": {},
   "outputs": [],
   "source": [
    "import os\n",
    "import json\n",
    "\n",
    "import numpy as np"
   ]
  },
  {
   "cell_type": "code",
   "execution_count": 128,
   "metadata": {},
   "outputs": [],
   "source": [
    "data_path = \"../../data/results/two-shot/5x5-relation/\"\n",
    "\n",
    "data = []\n",
    "for parent_folder in os.listdir(f\"./{data_path}\"):\n",
    "    for child_folder in os.listdir(f\"./{data_path}/{parent_folder}\"):\n",
    "        for file_name in os.listdir(f\"./{data_path}/{parent_folder}/{child_folder}\"):\n",
    "            filepath = os.path.join(f\"./{data_path}/{parent_folder}/{child_folder}\", file_name)\n",
    "            with open(filepath, \"r\") as file:\n",
    "                json_data = json.load(file)\n",
    "                data.append(json_data)\n",
    "                \n",
    "f1_scores_overall = [d[\"metrics\"][\"overall_metrics\"][\"f1_score\"] for d in data]\n",
    "f1_scores_entity = [d[\"metrics\"][\"entity_metrics\"][\"overall\"][\"f1_score\"] for d in data]\n",
    "f1_scores_relation = [d[\"metrics\"][\"relation_metrics\"][\"overall\"][\"f1_score\"] for d in data]"
   ]
  },
  {
   "cell_type": "code",
   "execution_count": 129,
   "metadata": {},
   "outputs": [
    {
     "data": {
      "text/plain": [
       "0.16"
      ]
     },
     "execution_count": 129,
     "metadata": {},
     "output_type": "execute_result"
    }
   ],
   "source": [
    "f1_score_overall = np.round(np.mean(f1_scores_overall), 2)\n",
    "\n",
    "f1_score_overall"
   ]
  },
  {
   "cell_type": "code",
   "execution_count": 130,
   "metadata": {},
   "outputs": [
    {
     "data": {
      "text/plain": [
       "0.22"
      ]
     },
     "execution_count": 130,
     "metadata": {},
     "output_type": "execute_result"
    }
   ],
   "source": [
    "f1_score_entity = np.round(np.mean(f1_scores_entity), 2)\n",
    "\n",
    "f1_score_entity"
   ]
  },
  {
   "cell_type": "code",
   "execution_count": 131,
   "metadata": {},
   "outputs": [
    {
     "data": {
      "text/plain": [
       "0.09"
      ]
     },
     "execution_count": 131,
     "metadata": {},
     "output_type": "execute_result"
    }
   ],
   "source": [
    "f1_score_relation = np.round(np.mean(f1_scores_relation), 2)\n",
    "\n",
    "f1_score_relation"
   ]
  },
  {
   "cell_type": "code",
   "execution_count": 132,
   "metadata": {},
   "outputs": [],
   "source": [
    "data_path = \"../../data/results/two-shot/5x5-relation-with-reference/\"\n",
    "\n",
    "data = []\n",
    "for parent_folder in os.listdir(f\"./{data_path}\"):\n",
    "    for child_folder in os.listdir(f\"./{data_path}/{parent_folder}\"):\n",
    "        for file_name in os.listdir(f\"./{data_path}/{parent_folder}/{child_folder}\"):\n",
    "            filepath = os.path.join(f\"./{data_path}/{parent_folder}/{child_folder}\", file_name)\n",
    "            with open(filepath, \"r\") as file:\n",
    "                json_data = json.load(file)\n",
    "                data.append(json_data)\n",
    "                \n",
    "f1_scores_overall_with_reference = [d[\"metrics\"][\"overall_metrics\"][\"f1_score\"] for d in data]\n",
    "f1_scores_entity_with_reference = [d[\"metrics\"][\"entity_metrics\"][\"overall\"][\"f1_score\"] for d in data]\n",
    "f1_scores_relation_with_reference = [d[\"metrics\"][\"relation_metrics\"][\"overall\"][\"f1_score\"] for d in data]"
   ]
  },
  {
   "cell_type": "code",
   "execution_count": 133,
   "metadata": {},
   "outputs": [
    {
     "data": {
      "text/plain": [
       "0.14"
      ]
     },
     "execution_count": 133,
     "metadata": {},
     "output_type": "execute_result"
    }
   ],
   "source": [
    "f1_score_overall_with_reference = np.round(np.mean(f1_scores_overall_with_reference), 2)\n",
    "\n",
    "f1_score_overall_with_reference"
   ]
  },
  {
   "cell_type": "code",
   "execution_count": 134,
   "metadata": {},
   "outputs": [
    {
     "data": {
      "text/plain": [
       "0.22"
      ]
     },
     "execution_count": 134,
     "metadata": {},
     "output_type": "execute_result"
    }
   ],
   "source": [
    "f1_score_entity_with_reference = np.round(np.mean(f1_scores_entity_with_reference), 2)\n",
    "\n",
    "f1_score_entity_with_reference"
   ]
  },
  {
   "cell_type": "code",
   "execution_count": 135,
   "metadata": {},
   "outputs": [
    {
     "data": {
      "text/plain": [
       "0.05"
      ]
     },
     "execution_count": 135,
     "metadata": {},
     "output_type": "execute_result"
    }
   ],
   "source": [
    "f1_score_relation_with_reference = np.round(np.mean(f1_scores_relation_with_reference), 2)\n",
    "\n",
    "f1_score_relation_with_reference"
   ]
  },
  {
   "cell_type": "code",
   "execution_count": 136,
   "metadata": {},
   "outputs": [],
   "source": [
    "data_path = \"../../data/results/two-shot/5x5-relation-with-gold/\"\n",
    "\n",
    "data = []\n",
    "for parent_folder in os.listdir(f\"./{data_path}\"):\n",
    "    for child_folder in os.listdir(f\"./{data_path}/{parent_folder}\"):\n",
    "        for file_name in os.listdir(f\"./{data_path}/{parent_folder}/{child_folder}\"):\n",
    "            filepath = os.path.join(f\"./{data_path}/{parent_folder}/{child_folder}\", file_name)\n",
    "            with open(filepath, \"r\") as file:\n",
    "                json_data = json.load(file)\n",
    "                data.append(json_data)\n",
    "\n",
    "f1_scores_relation_with_gold = [d[\"metrics\"][\"relation_metrics\"][\"overall\"][\"f1_score\"] for d in data]"
   ]
  },
  {
   "cell_type": "code",
   "execution_count": 137,
   "metadata": {},
   "outputs": [
    {
     "data": {
      "text/plain": [
       "0.34"
      ]
     },
     "execution_count": 137,
     "metadata": {},
     "output_type": "execute_result"
    }
   ],
   "source": [
    "f1_score_relation_with_gold = np.round(np.mean(f1_scores_relation_with_gold), 2)\n",
    "\n",
    "f1_score_relation_with_gold"
   ]
  },
  {
   "cell_type": "code",
   "execution_count": 138,
   "metadata": {},
   "outputs": [
    {
     "data": {
      "image/png": "[encoded data removed]",
      "text/plain": [
       "<Figure size 1000x500 with 1 Axes>"
      ]
     },
     "metadata": {},
     "output_type": "display_data"
    }
   ],
   "source": [
    "import numpy as np\n",
    "import matplotlib.pyplot as plt\n",
    "\n",
    "categories = ['Parallel', 'Sequentiell', 'Sequentiell mit Goldstandard']\n",
    "\n",
    "total_values = [f1_score_overall, f1_score_overall_with_reference, 0]\n",
    "entity_values = [f1_score_entity, f1_score_entity_with_reference, 0]\n",
    "relation_values = [f1_score_relation, f1_score_relation_with_reference, f1_score_relation_with_gold]\n",
    "\n",
    "bar_width = 0.25\n",
    "\n",
    "r1 = np.arange(len(categories))\n",
    "r2 = [x + bar_width for x in r1]\n",
    "r3 = [x + bar_width for x in r2]\n",
    "\n",
    "plt.figure(figsize=(10, 5))\n",
    "\n",
    "plt.bar(r1, total_values, color='b', width=bar_width, label='⌀ F1-Score Gesamt')\n",
    "plt.bar(r2, entity_values, color='g', width=bar_width, label='⌀ F1-Score Entitäten')\n",
    "plt.bar(r3, relation_values, color='r', width=bar_width, label='⌀ F1-Score Relationen')\n",
    "\n",
    "plt.xlabel('Annotationsreihenfolge')\n",
    "plt.xticks([r + bar_width for r in range(len(categories))], categories)\n",
    "\n",
    "plt.ylim((0, 0.6))\n",
    "\n",
    "plt.ylabel('F1-Score')\n",
    "plt.title('Annotationsreihenfolge und F1-Score')\n",
    "\n",
    "plt.legend()\n",
    "\n",
    "plt.savefig(\"./images/vergleich_reihenfolge.png\", dpi=700)\n",
    "\n",
    "plt.show()\n"
   ]
  }
 ],
 "metadata": {
  "kernelspec": {
   "display_name": "nlp",
   "language": "python",
   "name": "python3"
  },
  "language_info": {
   "codemirror_mode": {
    "name": "ipython",
    "version": 3
   },
   "file_extension": ".py",
   "mimetype": "text/x-python",
   "name": "python",
   "nbconvert_exporter": "python",
   "pygments_lexer": "ipython3",
   "version": "3.10.14"
  }
 },
 "nbformat": 4,
 "nbformat_minor": 2
}
