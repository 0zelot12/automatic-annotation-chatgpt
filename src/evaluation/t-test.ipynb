{
 "cells": [
  {
   "cell_type": "code",
   "execution_count": 18,
   "metadata": {},
   "outputs": [
    {
     "data": {
      "text/plain": [
       "0.0008888888888888889"
      ]
     },
     "execution_count": 18,
     "metadata": {},
     "output_type": "execute_result"
    }
   ],
   "source": [
    "import os\n",
    "import json\n",
    "\n",
    "import numpy as np\n",
    "\n",
    "data_path = \"../../data/results/zero-shot/5x5-relation\"\n",
    "\n",
    "data = []\n",
    "for parent_folder in os.listdir(f\"./{data_path}\"):\n",
    "    for child_folder in os.listdir(f\"./{data_path}/{parent_folder}\"):\n",
    "        for file_name in os.listdir(f\"./{data_path}/{parent_folder}/{child_folder}\"):\n",
    "            filepath = os.path.join(f\"./{data_path}/{parent_folder}/{child_folder}\", file_name)\n",
    "            with open(filepath, \"r\") as file:\n",
    "                json_data = json.load(file)\n",
    "                data.append(json_data)\n",
    "\n",
    "f1_scores_zero_shot = [d[\"metrics\"][\"relation_metrics\"][\"overall\"][\"f1_score\"] for d in data]\n",
    "document_lengths = [d[\"document_length\"] for d in data]\n",
    "\n",
    "np.mean(f1_scores_zero_shot)"
   ]
  },
  {
   "cell_type": "code",
   "execution_count": 19,
   "metadata": {},
   "outputs": [
    {
     "data": {
      "text/plain": [
       "0.09493333333333333"
      ]
     },
     "execution_count": 19,
     "metadata": {},
     "output_type": "execute_result"
    }
   ],
   "source": [
    "import os\n",
    "import json\n",
    "\n",
    "import numpy as np\n",
    "\n",
    "data_path = \"../../data/results/two-shot/5x5-relation\"\n",
    "\n",
    "data = []\n",
    "for parent_folder in os.listdir(f\"./{data_path}\"):\n",
    "    for child_folder in os.listdir(f\"./{data_path}/{parent_folder}\"):\n",
    "        for file_name in os.listdir(f\"./{data_path}/{parent_folder}/{child_folder}\"):\n",
    "            filepath = os.path.join(f\"./{data_path}/{parent_folder}/{child_folder}\", file_name)\n",
    "            with open(filepath, \"r\") as file:\n",
    "                json_data = json.load(file)\n",
    "                data.append(json_data)\n",
    "\n",
    "f1_scores_two_shot = [d[\"metrics\"][\"relation_metrics\"][\"overall\"][\"f1_score\"] for d in data]\n",
    "document_lengths = [d[\"document_length\"] for d in data]\n",
    "\n",
    "np.mean(f1_scores_two_shot)"
   ]
  },
  {
   "cell_type": "code",
   "execution_count": 20,
   "metadata": {},
   "outputs": [
    {
     "data": {
      "text/plain": [
       "0.05435555555555556"
      ]
     },
     "execution_count": 20,
     "metadata": {},
     "output_type": "execute_result"
    }
   ],
   "source": [
    "import os\n",
    "import json\n",
    "import numpy as np\n",
    "\n",
    "from scipy import stats\n",
    "\n",
    "data_path = \"../../data/results/one-shot/5x5-relation\"\n",
    "\n",
    "data = []\n",
    "for parent_folder in os.listdir(f\"./{data_path}\"):\n",
    "    for child_folder in os.listdir(f\"./{data_path}/{parent_folder}\"):\n",
    "        for file_name in os.listdir(f\"./{data_path}/{parent_folder}/{child_folder}\"):\n",
    "            filepath = os.path.join(f\"./{data_path}/{parent_folder}/{child_folder}\", file_name)\n",
    "            with open(filepath, \"r\") as file:\n",
    "                json_data = json.load(file)\n",
    "                data.append(json_data)\n",
    "\n",
    "f1_scores_one_shot = [d[\"metrics\"][\"relation_metrics\"][\"overall\"][\"f1_score\"] for d in data]\n",
    "document_lengths = [d[\"document_length\"] for d in data]\n",
    "\n",
    "np.mean(f1_scores_one_shot)"
   ]
  },
  {
   "cell_type": "code",
   "execution_count": 21,
   "metadata": {},
   "outputs": [
    {
     "data": {
      "text/plain": [
       "TtestResult(statistic=-4.336361683130808, pvalue=1.095083937019841e-05, df=224)"
      ]
     },
     "execution_count": 21,
     "metadata": {},
     "output_type": "execute_result"
    }
   ],
   "source": [
    "stats.ttest_rel(f1_scores_zero_shot, f1_scores_one_shot, alternative=\"less\")"
   ]
  },
  {
   "cell_type": "markdown",
   "metadata": {},
   "source": [
    "Nullhypothese: Two-Shot-Prompts erhöhen den F1-Score nicht (gleich)\n",
    "Alternativhypothese: Two-Shot prompts erhöhen den F1-Score"
   ]
  },
  {
   "cell_type": "code",
   "execution_count": 22,
   "metadata": {},
   "outputs": [
    {
     "data": {
      "text/plain": [
       "TtestResult(statistic=-4.336361683130808, pvalue=1.095083937019841e-05, df=224)"
      ]
     },
     "execution_count": 22,
     "metadata": {},
     "output_type": "execute_result"
    }
   ],
   "source": [
    "stats.ttest_rel(f1_scores_one_shot, f1_scores_two_shot, alternative=\"less\")"
   ]
  }
 ],
 "metadata": {
  "kernelspec": {
   "display_name": "nlp",
   "language": "python",
   "name": "python3"
  },
  "language_info": {
   "codemirror_mode": {
    "name": "ipython",
    "version": 3
   },
   "file_extension": ".py",
   "mimetype": "text/x-python",
   "name": "python",
   "nbconvert_exporter": "python",
   "pygments_lexer": "ipython3",
   "version": "3.10.14"
  }
 },
 "nbformat": 4,
 "nbformat_minor": 2
}
