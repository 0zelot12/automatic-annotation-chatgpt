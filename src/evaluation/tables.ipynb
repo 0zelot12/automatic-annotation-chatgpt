{
 "cells": [
  {
   "cell_type": "code",
   "execution_count": 1,
   "metadata": {},
   "outputs": [],
   "source": [
    "import numpy as np\n",
    "\n",
    "def rounded(x):\n",
    "    return np.round(x, 2)"
   ]
  },
  {
   "cell_type": "code",
   "execution_count": 2,
   "metadata": {},
   "outputs": [],
   "source": [
    "entity_rows = [\n",
    "    [\"Entität\", \"Vorkommen im Datensatz\", \"Durchschnitt pro Dokument\"],\n",
    "    [\"Actor\", 449, rounded(449/45)],\n",
    "    [\"Activity\", 502, rounded(502/45)],\n",
    "    [\"Activity Data\", 459, rounded(459/45)],\n",
    "    [\"AND-Gateway\", 8, rounded(6/45)],\n",
    "    [\"XOR-Gateway\", 117, rounded(117/45)],\n",
    "    [\"Condition Specification\", 80, rounded(80/45)],\n",
    "    [\"Further Specification\", 64, rounded(64/45)],\n",
    "]\n",
    "\n",
    "relation_rows = [\n",
    "    [\"Relation\", \"Vorkommen im Datensatz\", \"Durchschnitt pro Dokument\"],\n",
    "    [\"Actor Performer\", 399, rounded(399/45)],\n",
    "    [\"Actor Recipient\", 166, rounded(166/45)],\n",
    "    [\"Same Gateway\", 42, rounded(42/45)],\n",
    "    [\"Flow\", 675, rounded(675/45)],\n",
    "    [\"Uses\", 486, rounded(486/45)],\n",
    "    [\"Further Specification\", 64, rounded(64/45)],\n",
    "]"
   ]
  },
  {
   "cell_type": "code",
   "execution_count": 3,
   "metadata": {},
   "outputs": [],
   "source": [
    "import latextable\n",
    "\n",
    "from texttable import Texttable"
   ]
  },
  {
   "cell_type": "code",
   "execution_count": 4,
   "metadata": {},
   "outputs": [
    {
     "name": "stdout",
     "output_type": "stream",
     "text": [
      "\\begin{table}\n",
      "\t\\begin{center}\n",
      "\t\t\\begin{tabular}{|l|r|r|}\n",
      "\t\t\t\\hline\n",
      "\t\t\tEntität & Vorkommen im Datensatz & Durchschnitt pro Dokument \\\\\n",
      "\t\t\t\\hline\n",
      "\t\t\tActor & 449 & 9.980 \\\\\n",
      "\t\t\t\\hline\n",
      "\t\t\tActivity & 502 & 11.160 \\\\\n",
      "\t\t\t\\hline\n",
      "\t\t\tActivity Data & 459 & 10.200 \\\\\n",
      "\t\t\t\\hline\n",
      "\t\t\tAND-Gateway & 8 & 0.130 \\\\\n",
      "\t\t\t\\hline\n",
      "\t\t\tXOR-Gateway & 117 & 2.600 \\\\\n",
      "\t\t\t\\hline\n",
      "\t\t\tCondition Specification & 80 & 1.780 \\\\\n",
      "\t\t\t\\hline\n",
      "\t\t\tFurther Specification & 64 & 1.420 \\\\\n",
      "\t\t\t\\hline\n",
      "\t\t\\end{tabular}\n",
      "\t\\end{center}\n",
      "\t\\caption{Vorkommen von Entitäten im PET-Datensatz}\n",
      "\t\\label{table:example_table}\n",
      "\\end{table}\n"
     ]
    }
   ],
   "source": [
    "table_1 = Texttable()\n",
    "\n",
    "table_1.set_cols_align([\"l\", \"r\", \"r\",])\n",
    "table_1.set_cols_valign([\"t\", \"m\", \"m\"])\n",
    "\n",
    "table_1.add_rows(entity_rows)\n",
    "\n",
    "print(\n",
    "    latextable.draw_latex(\n",
    "        table_1,\n",
    "        caption=\"Vorkommen von Entitäten im PET-Datensatz\",\n",
    "        label=\"table:example_table\",\n",
    "    )\n",
    ")"
   ]
  },
  {
   "cell_type": "code",
   "execution_count": 5,
   "metadata": {},
   "outputs": [
    {
     "name": "stdout",
     "output_type": "stream",
     "text": [
      "\\begin{table}\n",
      "\t\\begin{center}\n",
      "\t\t\\begin{tabular}{|l|r|r|}\n",
      "\t\t\t\\hline\n",
      "\t\t\tRelation & Vorkommen im Datensatz & Durchschnitt pro Dokument \\\\\n",
      "\t\t\t\\hline\n",
      "\t\t\tActor Performer & 399 & 8.870 \\\\\n",
      "\t\t\t\\hline\n",
      "\t\t\tActor Recipient & 166 & 3.690 \\\\\n",
      "\t\t\t\\hline\n",
      "\t\t\tSame Gateway & 42 & 0.930 \\\\\n",
      "\t\t\t\\hline\n",
      "\t\t\tFlow & 675 & 15 \\\\\n",
      "\t\t\t\\hline\n",
      "\t\t\tUses & 486 & 10.800 \\\\\n",
      "\t\t\t\\hline\n",
      "\t\t\tFurther Specification & 64 & 1.420 \\\\\n",
      "\t\t\t\\hline\n",
      "\t\t\\end{tabular}\n",
      "\t\\end{center}\n",
      "\t\\caption{Vorkommen von Relationen im PET-Datensatz}\n",
      "\t\\label{table:example_table}\n",
      "\\end{table}\n"
     ]
    }
   ],
   "source": [
    "table_2 = Texttable()\n",
    "\n",
    "table_2.set_cols_align([\"l\", \"r\", \"r\",])\n",
    "table_2.set_cols_valign([\"t\", \"m\", \"m\"])\n",
    "\n",
    "table_2.add_rows(relation_rows)\n",
    "\n",
    "print(\n",
    "    latextable.draw_latex(\n",
    "        table_2,\n",
    "        caption=\"Vorkommen von Relationen im PET-Datensatz\",\n",
    "        label=\"table:example_table\",\n",
    "    )\n",
    ")"
   ]
  }
 ],
 "metadata": {
  "kernelspec": {
   "display_name": "nlp",
   "language": "python",
   "name": "python3"
  },
  "language_info": {
   "codemirror_mode": {
    "name": "ipython",
    "version": 3
   },
   "file_extension": ".py",
   "mimetype": "text/x-python",
   "name": "python",
   "nbconvert_exporter": "python",
   "pygments_lexer": "ipython3",
   "version": "3.10.14"
  }
 },
 "nbformat": 4,
 "nbformat_minor": 2
}
