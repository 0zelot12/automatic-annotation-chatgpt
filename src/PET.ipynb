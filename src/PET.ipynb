{
 "cells": [
  {
   "cell_type": "code",
   "execution_count": null,
   "metadata": {},
   "outputs": [],
   "source": [
    "import pandas as pd\n",
    "\n",
    "from collections import Counter\n",
    "from pet_document import PetDocument"
   ]
  },
  {
   "cell_type": "code",
   "execution_count": null,
   "metadata": {},
   "outputs": [],
   "source": [
    "df = pd.read_parquet(\"../assets/pet_dataset.parquet\")"
   ]
  },
  {
   "cell_type": "code",
   "execution_count": null,
   "metadata": {},
   "outputs": [],
   "source": [
    "# Convert to objects\n",
    "pet_documents = df.to_dict(orient=\"records\")\n",
    "records = []\n",
    "# TODO: Refactor\n",
    "for document in pet_documents:\n",
    "    converted_document = PetDocument(\n",
    "        name=document[\"document name\"],\n",
    "        tokens=document[\"tokens\"],\n",
    "        tokens_ids=document[\"tokens-IDs\"],\n",
    "        ner_tags=document[\"ner_tags\"],\n",
    "        sentence_ids=document[\"sentence-IDs\"],\n",
    "    )\n",
    "    converted_document.relations[\"source_head_sentence_id\"] = document[\n",
    "        \"relations.source-head-sentence-ID\"\n",
    "    ]\n",
    "    converted_document.relations[\"source_head_word_id\"] = document[\n",
    "        \"relations.source-head-word-ID\"\n",
    "    ]\n",
    "    converted_document.relations[\"relation_type\"] = document[\"relations.relation-type\"]\n",
    "    converted_document.relations[\"target_head_sentence_id\"] = document[\n",
    "        \"relations.target-head-sentence-ID\"\n",
    "    ]\n",
    "    converted_document.relations[\"target_head_word_id\"] = document[\n",
    "        \"relations.target-head-word-ID\"\n",
    "    ]\n",
    "    records.append(converted_document)"
   ]
  },
  {
   "cell_type": "code",
   "execution_count": null,
   "metadata": {},
   "outputs": [],
   "source": [
    "from helper import generate_horizontal_bar_chart\n",
    "\n",
    "total_tokens = 0\n",
    "for record in records:\n",
    "    total_tokens += len(record.tokens)\n",
    "\n",
    "def get_lengths(documents):\n",
    "    result = []\n",
    "    for document in documents:\n",
    "        result.append(len(document.tokens))\n",
    "    return result\n",
    "\n",
    "\n",
    "min_tokens = min(get_lengths(records))\n",
    "max_tokens = max(get_lengths(records))\n",
    "avg_tokens = total_tokens / len(records)\n",
    "\n",
    "generate_horizontal_bar_chart(\n",
    "    values=[min_tokens, max_tokens, avg_tokens], \n",
    "    categories=[\"Minimum\", \"Maximum\", \"Durchschnitt\"], \n",
    "    xLabel=\"Tokens\", \n",
    "    yLabel=\"\", \n",
    "    title=\"Anzahl an Tokens pro Dokument\"\n",
    ")"
   ]
  },
  {
   "cell_type": "code",
   "execution_count": null,
   "metadata": {},
   "outputs": [],
   "source": [
    "ner_tags = []\n",
    "for record in records:\n",
    "    ner_tags.extend(record.ner_tags)\n",
    "\n",
    "ner_tags_counts = Counter(ner_tags)\n",
    "\n",
    "plot_categories = []\n",
    "plot_values = []\n",
    "\n",
    "for string, count in ner_tags_counts.items():\n",
    "    plot_categories.append(string)\n",
    "    plot_values.append(count)\n",
    "\n",
    "generate_horizontal_bar_chart(\n",
    "    values=plot_values, \n",
    "    categories=plot_categories, \n",
    "    xLabel=\"ner-Tags\", \n",
    "    yLabel=\"Anzahl der Vorkommen im Datensatz\", \n",
    "    title=\"Verteilung von NER-Tags im PET-Datensatz\"\n",
    ")"
   ]
  },
  {
   "cell_type": "code",
   "execution_count": null,
   "metadata": {},
   "outputs": [],
   "source": [
    "filtered_ner_tags = []\n",
    "plot_categories = []\n",
    "plot_values = []\n",
    "\n",
    "for item in ner_tags_counts.items():\n",
    "    if not item[0].startswith(\"I\"):\n",
    "        filtered_ner_tags.append(item)\n",
    "\n",
    "for tag, count in filtered_ner_tags:\n",
    "    plot_categories.append(tag.replace(\"B-\", \"\"))\n",
    "    plot_values.append(count)\n",
    "\n",
    "generate_horizontal_bar_chart(\n",
    "    values=plot_values, \n",
    "    categories=plot_categories, \n",
    "    xLabel=\"Anzahl der Vorkommen im Datensatz\", \n",
    "    yLabel=\"ner-Tags \", \n",
    "    title=\"Verteilung von NER-Tags im PET-Datensatz\"\n",
    ")"
   ]
  },
  {
   "cell_type": "code",
   "execution_count": null,
   "metadata": {},
   "outputs": [],
   "source": [
    "from helper import generate_simple_bar_chart\n",
    "\n",
    "relations = []\n",
    "for record in records:\n",
    "    relations.extend(record.relations[\"relation_type\"])\n",
    "\n",
    "relations_counts = Counter(relations)\n",
    "\n",
    "plot_categories = []\n",
    "plot_values = []\n",
    "\n",
    "for string, count in relations_counts.items():\n",
    "    plot_categories.append(string)\n",
    "    plot_values.append(count)\n",
    "\n",
    "generate_simple_bar_chart(\n",
    "    values=plot_values, \n",
    "    categories=plot_categories, \n",
    "    xLabel=\"Relationen\", \n",
    "    yLabel=\"Anzahl der Vorkommen im Datensatz\", \n",
    "    title=\"Verteilung von Relationen im PET-Datensatz\"\n",
    ")"
   ]
  }
 ],
 "metadata": {
  "kernelspec": {
   "display_name": "langchain",
   "language": "python",
   "name": "python3"
  },
  "language_info": {
   "codemirror_mode": {
    "name": "ipython",
    "version": 3
   },
   "file_extension": ".py",
   "mimetype": "text/x-python",
   "name": "python",
   "nbconvert_exporter": "python",
   "pygments_lexer": "ipython3",
   "version": "3.9.13"
  }
 },
 "nbformat": 4,
 "nbformat_minor": 2
}
