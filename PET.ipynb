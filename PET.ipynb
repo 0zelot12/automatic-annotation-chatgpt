{
 "cells": [
  {
   "cell_type": "code",
   "execution_count": null,
   "metadata": {},
   "outputs": [],
   "source": [
    "import pandas as pd\n",
    "import matplotlib.pyplot as plt\n",
    "import numpy as np\n",
    "\n",
    "from collections import Counter\n",
    "from pet_document import PetDocument"
   ]
  },
  {
   "cell_type": "code",
   "execution_count": null,
   "metadata": {},
   "outputs": [],
   "source": [
    "df = pd.read_parquet(\"./assets/pet_dataset.parquet\")"
   ]
  },
  {
   "cell_type": "code",
   "execution_count": null,
   "metadata": {},
   "outputs": [],
   "source": [
    "# Convert to objects\n",
    "pet_documents = df.to_dict(orient=\"records\")\n",
    "records = []\n",
    "# TODO: Refactor\n",
    "for document in pet_documents:\n",
    "    converted_document = PetDocument(\n",
    "        name=document[\"document name\"],\n",
    "        tokens=document[\"tokens\"],\n",
    "        tokens_ids=document[\"tokens-IDs\"],\n",
    "        ner_tags=document[\"ner_tags\"],\n",
    "        sentence_ids=document[\"sentence-IDs\"],\n",
    "    )\n",
    "    converted_document.relations[\"source_head_sentence_id\"] = document[\n",
    "        \"relations.source-head-sentence-ID\"\n",
    "    ]\n",
    "    converted_document.relations[\"source_head_word_id\"] = document[\n",
    "        \"relations.source-head-word-ID\"\n",
    "    ]\n",
    "    converted_document.relations[\"relation_type\"] = document[\"relations.relation-type\"]\n",
    "    converted_document.relations[\"target_head_sentence_id\"] = document[\n",
    "        \"relations.target-head-sentence-ID\"\n",
    "    ]\n",
    "    converted_document.relations[\"target_head_word_id\"] = document[\n",
    "        \"relations.target-head-word-ID\"\n",
    "    ]\n",
    "    records.append(converted_document)"
   ]
  },
  {
   "cell_type": "code",
   "execution_count": null,
   "metadata": {},
   "outputs": [],
   "source": [
    "# Calculate stats for tokens\n",
    "total_tokens = 0\n",
    "for record in records:\n",
    "    total_tokens += len(record.tokens)\n",
    "\n",
    "\n",
    "avg_tokens = total_tokens / len(records)\n",
    "\n",
    "\n",
    "def get_lengths(documents):\n",
    "    result = []\n",
    "    for document in documents:\n",
    "        result.append(len(document.tokens))\n",
    "    return result\n",
    "\n",
    "\n",
    "min_tokens = min(get_lengths(records))\n",
    "max_tokens = max(get_lengths(records))\n",
    "\n",
    "print(\"Average number of tokens per document: \" + str(avg_tokens))\n",
    "print(\"Mininum number of tokens per document: \" + str(min_tokens))\n",
    "print(\"Maximum number of tokens per document: \" + str(max_tokens))"
   ]
  },
  {
   "cell_type": "code",
   "execution_count": null,
   "metadata": {},
   "outputs": [],
   "source": [
    "# Calculate stats for ner-tags\n",
    "ner_tags = []\n",
    "for record in records:\n",
    "    ner_tags.extend(record.ner_tags)\n",
    "\n",
    "ner_tags_counts = Counter(ner_tags)\n",
    "\n",
    "for string, count in ner_tags_counts.items():\n",
    "    print(f\"{string}: {count}\")\n",
    "\n",
    "# Calculate stats for relations\n",
    "relations = []\n",
    "for record in records:\n",
    "    relations.extend(record.relations[\"relation_type\"])\n",
    "\n",
    "relations_counts = Counter(relations)"
   ]
  },
  {
   "cell_type": "code",
   "execution_count": null,
   "metadata": {},
   "outputs": [],
   "source": [
    "# Generate HTML\n",
    "with open('assets/template.html', 'r') as file:\n",
    "    html_template = file.read()\n",
    "\n",
    "data = \"\"\n",
    "\n",
    "for record in records:\n",
    "    html_content = html_template\n",
    "    html_content = html_content.replace(\"<!-- TITLE -->\", record.name)\n",
    "    for token, ner_tag in zip(record.tokens, record.ner_tags):\n",
    "        data += f\"<span class='{ner_tag}'>{token}</span>\"\n",
    "    html_content = html_content.replace(\"<!-- CONTENT  -->\", data)\n",
    "    with open(f\"out/{record.name}.html\", 'w') as file:\n",
    "        file.write(html_content)"
   ]
  },
  {
   "cell_type": "code",
   "execution_count": null,
   "metadata": {},
   "outputs": [],
   "source": [
    "# Plot data\n",
    "plot_categories = []\n",
    "plot_values = []\n",
    "\n",
    "for string, count in relations_counts.items():\n",
    "    plot_categories.append(string)\n",
    "    plot_values.append(count)\n",
    "\n",
    "# Set the width of the bars\n",
    "bar_width = 0.35\n",
    "\n",
    "# Set the positions of the bars on the x-axis\n",
    "bar_positions = np.arange(len(plot_categories))\n",
    "\n",
    "# Create the bar plot\n",
    "plt.bar(bar_positions, plot_values, width=bar_width)\n",
    "\n",
    "# Add labels and title\n",
    "plt.xlabel(\"Relationen\")\n",
    "plt.ylabel(\"Anzahl der Vorkommen im Datensatz\")\n",
    "plt.title(\"Verteilung von Relationen im PET-Datensatz\")\n",
    "plt.xticks(bar_positions, plot_categories)\n",
    "\n",
    "for i, value in enumerate(plot_values):\n",
    "    plt.text(bar_positions[i], value + 0.1, str(value), ha=\"center\", va=\"bottom\")\n",
    "\n",
    "# Display the plot\n",
    "plt.show()"
   ]
  }
 ],
 "metadata": {
  "kernelspec": {
   "display_name": "langchain",
   "language": "python",
   "name": "python3"
  },
  "language_info": {
   "codemirror_mode": {
    "name": "ipython",
    "version": 3
   },
   "file_extension": ".py",
   "mimetype": "text/x-python",
   "name": "python",
   "nbconvert_exporter": "python",
   "pygments_lexer": "ipython3",
   "version": "3.12.0"
  }
 },
 "nbformat": 4,
 "nbformat_minor": 2
}
