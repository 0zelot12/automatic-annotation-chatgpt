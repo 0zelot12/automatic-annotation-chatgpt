{
 "cells": [
  {
   "cell_type": "code",
   "execution_count": 3,
   "metadata": {},
   "outputs": [],
   "source": [
    "import os\n",
    "import json\n",
    "\n",
    "import numpy as np"
   ]
  },
  {
   "cell_type": "code",
   "execution_count": 4,
   "metadata": {},
   "outputs": [],
   "source": [
    "grouped_data = []\n",
    "for parent_folder in os.listdir(\"./out\"):\n",
    "    validation_result = []\n",
    "    for child_folder in os.listdir(f\"./out/{parent_folder}\"):\n",
    "        fold_result = []\n",
    "        for file_name in os.listdir(f\"./out/{parent_folder}/{child_folder}\"):\n",
    "            filepath = os.path.join(f\"./out/{parent_folder}/{child_folder}\", file_name)\n",
    "            with open(filepath, \"r\") as file:\n",
    "                json_data = json.load(file)\n",
    "                fold_result.append(json_data)\n",
    "        validation_result.append(fold_result)\n",
    "    grouped_data.append(validation_result)"
   ]
  },
  {
   "cell_type": "code",
   "execution_count": 5,
   "metadata": {},
   "outputs": [
    {
     "data": {
      "text/plain": [
       "0.16066666666666668"
      ]
     },
     "execution_count": 5,
     "metadata": {},
     "output_type": "execute_result"
    }
   ],
   "source": [
    "result_paths = os.listdir(\"./out\")\n",
    "data_fold_0 = []\n",
    "for result_path in result_paths:\n",
    "    for filename in os.listdir(f\"./out/{result_path}/0\"):\n",
    "        filepath = os.path.join(f\"./out/{result_path}/0\", filename)\n",
    "        with open(filepath, \"r\") as file:\n",
    "            json_data = json.load(file)\n",
    "            data_fold_0.append(json_data)\n",
    "            \n",
    "f1_scores_fold_0 = [d[\"metrics\"][\"overall_metrics\"][\"f1_score\"] for d in data_fold_0]\n",
    "lengths_fold_0 = [d[\"document_length\"] for d in data_fold_0]\n",
    "\n",
    "np.mean(f1_scores_fold_0)"
   ]
  },
  {
   "cell_type": "code",
   "execution_count": 6,
   "metadata": {},
   "outputs": [
    {
     "data": {
      "text/plain": [
       "0.1388888888888889"
      ]
     },
     "execution_count": 6,
     "metadata": {},
     "output_type": "execute_result"
    }
   ],
   "source": [
    "result_paths = os.listdir(\"./out\")\n",
    "data_fold_1 = []\n",
    "for result_path in result_paths:\n",
    "    for filename in os.listdir(f\"./out/{result_path}/1\"):\n",
    "        filepath = os.path.join(f\"./out/{result_path}/1\", filename)\n",
    "        with open(filepath, \"r\") as file:\n",
    "            json_data = json.load(file)\n",
    "            data_fold_1.append(json_data)\n",
    "            \n",
    "f1_scores_fold_1 = [d[\"metrics\"][\"overall_metrics\"][\"f1_score\"] for d in data_fold_1]\n",
    "lengths_fold_1 = [d[\"document_length\"] for d in data_fold_1]\n",
    "\n",
    "np.mean(f1_scores_fold_1)\n"
   ]
  },
  {
   "cell_type": "code",
   "execution_count": 7,
   "metadata": {},
   "outputs": [
    {
     "data": {
      "text/plain": [
       "0.15133333333333332"
      ]
     },
     "execution_count": 7,
     "metadata": {},
     "output_type": "execute_result"
    }
   ],
   "source": [
    "result_paths = os.listdir(\"./out\")\n",
    "data_fold_2 = []\n",
    "for result_path in result_paths:\n",
    "    for filename in os.listdir(f\"./out/{result_path}/2\"):\n",
    "        filepath = os.path.join(f\"./out/{result_path}/2\", filename)\n",
    "        with open(filepath, \"r\") as file:\n",
    "            json_data = json.load(file)\n",
    "            data_fold_2.append(json_data)\n",
    "            \n",
    "f1_scores_fold_2 = [d[\"metrics\"][\"overall_metrics\"][\"f1_score\"] for d in data_fold_2]\n",
    "lengths_fold_2 = [d[\"document_length\"] for d in data_fold_2]\n",
    "\n",
    "np.mean(f1_scores_fold_2)"
   ]
  },
  {
   "cell_type": "code",
   "execution_count": 8,
   "metadata": {},
   "outputs": [
    {
     "data": {
      "text/plain": [
       "0.14533333333333334"
      ]
     },
     "execution_count": 8,
     "metadata": {},
     "output_type": "execute_result"
    }
   ],
   "source": [
    "result_paths = os.listdir(\"./out\")\n",
    "data_fold_3 = []\n",
    "for result_path in result_paths:\n",
    "    for filename in os.listdir(f\"./out/{result_path}/3\"):\n",
    "        filepath = os.path.join(f\"./out/{result_path}/3\", filename)\n",
    "        with open(filepath, \"r\") as file:\n",
    "            json_data = json.load(file)\n",
    "            data_fold_3.append(json_data)\n",
    "            \n",
    "f1_scores_fold_3 = [d[\"metrics\"][\"overall_metrics\"][\"f1_score\"] for d in data_fold_3]\n",
    "lengths_fold_3 = [d[\"document_length\"] for d in data_fold_3]\n",
    "\n",
    "np.mean(f1_scores_fold_3)"
   ]
  },
  {
   "cell_type": "code",
   "execution_count": 9,
   "metadata": {},
   "outputs": [
    {
     "data": {
      "text/plain": [
       "0.18266666666666664"
      ]
     },
     "execution_count": 9,
     "metadata": {},
     "output_type": "execute_result"
    }
   ],
   "source": [
    "result_paths = os.listdir(\"./out\")\n",
    "data_fold_4 = []\n",
    "for result_path in result_paths:\n",
    "    for filename in os.listdir(f\"./out/{result_path}/4\"):\n",
    "        filepath = os.path.join(f\"./out/{result_path}/4\", filename)\n",
    "        with open(filepath, \"r\") as file:\n",
    "            json_data = json.load(file)\n",
    "            data_fold_4.append(json_data)\n",
    "            \n",
    "f1_scores_fold_4 = [d[\"metrics\"][\"overall_metrics\"][\"f1_score\"] for d in data_fold_4]\n",
    "lengths_fold_4 = [d[\"document_length\"] for d in data_fold_4]\n",
    "\n",
    "np.mean(f1_scores_fold_4)"
   ]
  },
  {
   "cell_type": "code",
   "execution_count": 10,
   "metadata": {},
   "outputs": [],
   "source": [
    "data = []\n",
    "for parent_folder in os.listdir(\"./out\"):\n",
    "    for child_folder in os.listdir(f\"./out/{parent_folder}\"):\n",
    "        for file_name in os.listdir(f\"./out/{parent_folder}/{child_folder}\"):\n",
    "            filepath = os.path.join(f\"./out/{parent_folder}/{child_folder}\", file_name)\n",
    "            with open(filepath, \"r\") as file:\n",
    "                json_data = json.load(file)\n",
    "                data.append(json_data)\n",
    "\n",
    "f1_scores = [d[\"metrics\"][\"overall_metrics\"][\"f1_score\"] for d in data]\n",
    "document_lengths = [d[\"document_length\"] for d in data]"
   ]
  },
  {
   "cell_type": "code",
   "execution_count": 11,
   "metadata": {},
   "outputs": [
    {
     "data": {
      "text/plain": [
       "0.15577777777777777"
      ]
     },
     "execution_count": 11,
     "metadata": {},
     "output_type": "execute_result"
    }
   ],
   "source": [
    "np.mean(f1_scores)"
   ]
  },
  {
   "cell_type": "code",
   "execution_count": 12,
   "metadata": {},
   "outputs": [
    {
     "data": {
      "image/png": "[encoded data removed]",
      "text/plain": [
       "<Figure size 640x480 with 1 Axes>"
      ]
     },
     "metadata": {},
     "output_type": "display_data"
    }
   ],
   "source": [
    "import matplotlib.pyplot as plt\n",
    "\n",
    "plt.xlabel('Length (#Tokens)')\n",
    "plt.ylabel('F1-Score')\n",
    "plt.title('5x5-Fold-Cross-Validation')\n",
    "\n",
    "plt.xlim(0, 800)\n",
    "plt.ylim(0, 1)\n",
    "\n",
    "plt.scatter(lengths_fold_0, f1_scores_fold_0, s=5, label=\"Fold 1\", alpha=0.5)\n",
    "plt.scatter(lengths_fold_1, f1_scores_fold_1, s=5, label=\"Fold 2\", alpha=0.5)\n",
    "plt.scatter(lengths_fold_2, f1_scores_fold_2, s=5, label=\"Fold 3\", alpha=0.5)\n",
    "plt.scatter(lengths_fold_3, f1_scores_fold_3, s=5, label=\"Fold 4\", alpha=0.5)\n",
    "plt.scatter(lengths_fold_4, f1_scores_fold_4, s=5, label=\"Fold 5\", alpha=0.5)\n",
    "\n",
    "plt.legend()\n",
    "\n",
    "plt.savefig('scatter_plot.png', dpi=700)"
   ]
  }
 ],
 "metadata": {
  "kernelspec": {
   "display_name": "nlp",
   "language": "python",
   "name": "python3"
  },
  "language_info": {
   "codemirror_mode": {
    "name": "ipython",
    "version": 3
   },
   "file_extension": ".py",
   "mimetype": "text/x-python",
   "name": "python",
   "nbconvert_exporter": "python",
   "pygments_lexer": "ipython3",
   "version": "3.10.14"
  }
 },
 "nbformat": 4,
 "nbformat_minor": 2
}
